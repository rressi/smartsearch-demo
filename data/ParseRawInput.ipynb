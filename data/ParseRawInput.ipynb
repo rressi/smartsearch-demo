{
 "cells": [
  {
   "cell_type": "code",
   "execution_count": null,
   "metadata": {
    "collapsed": false
   },
   "outputs": [],
   "source": [
    "import json\n",
    "\n",
    "with open(\"raw.json\", encoding='utf-8') as fd:\n",
    "    raw = json.load(fd)\n",
    "    \n",
    "column_names = [column['name'] \n",
    "                for column in raw['meta']['view']['columns']]\n",
    "column_names\n",
    "\n",
    "results = []\n",
    "for item in raw['data']:\n",
    "    item = {column_name: value\n",
    "            for column_name, value in zip(column_names, item)}\n",
    "    results.append(item)"
   ]
  },
  {
   "cell_type": "code",
   "execution_count": null,
   "metadata": {
    "collapsed": true
   },
   "outputs": [],
   "source": []
  }
 ],
 "metadata": {
  "anaconda-cloud": {},
  "kernelspec": {
   "display_name": "Python [default]",
   "language": "python",
   "name": "python3"
  },
  "language_info": {
   "codemirror_mode": {
    "name": "ipython",
    "version": 3
   },
   "file_extension": ".py",
   "mimetype": "text/x-python",
   "name": "python",
   "nbconvert_exporter": "python",
   "pygments_lexer": "ipython3",
   "version": "3.5.2"
  }
 },
 "nbformat": 4,
 "nbformat_minor": 1
}
